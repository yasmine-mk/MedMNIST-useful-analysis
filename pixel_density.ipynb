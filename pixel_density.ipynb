{
 "cells": [
  {
   "cell_type": "code",
   "execution_count": 114,
   "metadata": {},
   "outputs": [],
   "source": [
    "#%pip install medmnist"
   ]
  },
  {
   "cell_type": "code",
   "execution_count": 98,
   "metadata": {},
   "outputs": [],
   "source": [
    "import medmnist\n",
    "import seaborn as sns\n",
    "import matplotlib as plt\n",
    "from matplotlib.pyplot import legend"
   ]
  },
  {
   "attachments": {},
   "cell_type": "markdown",
   "metadata": {},
   "source": [
    "# Plotting pixel values density for 3 different medMNIST datasets"
   ]
  },
  {
   "attachments": {},
   "cell_type": "markdown",
   "metadata": {},
   "source": [
    "### plotting for either train, val or test sets across  the datasets"
   ]
  },
  {
   "cell_type": "code",
   "execution_count": 106,
   "metadata": {},
   "outputs": [],
   "source": [
    "# choose the datasets here\n",
    "#ds_names = [\"dermamnist\",\"bloodmnist\",\"retinamnist\"]\n",
    "ds_names =[\"breastmnist\"]\n",
    "#choose split type : train / test / val \n",
    "split = \"train\"\n",
    "# will contain dataclasses and (train/test/val) data info for each dataset name respectively (useless here ngl)\n",
    "dataclasses = []\n",
    "data =[]\n",
    "# for plotting later \n",
    "prepared_data ={}\n",
    "labels = []"
   ]
  },
  {
   "cell_type": "code",
   "execution_count": 111,
   "metadata": {},
   "outputs": [
    {
     "name": "stdout",
     "output_type": "stream",
     "text": [
      "Using downloaded and verified file: C:\\Users\\yasmi\\.medmnist\\breastmnist.npz\n"
     ]
    }
   ],
   "source": [
    "#preparing each dataset for plotting \n",
    "for ds_name in ds_names:\n",
    "    assert ds_name in [\"pathmnist\", \"chestmnist\", \"dermamnist\", \"octmnist\", \"pneumoniamnist\", \"retinamnist\", \"breastmnist\", \"bloodmnist\",\n",
    "     \"tissuemnist\", \"organamnist\", \"organcmnist\", \"organsmnist\"], \"Dataset's name is not correct\"\n",
    "    dataclass = getattr(medmnist, medmnist.INFO[ds_name][\"python_class\"])\n",
    "    dataclasses.append(dataclass)\n",
    "    data_ = dataclass(split=split, download=True)\n",
    "    data.append(data_)\n",
    "    prepared_data_ = data_.imgs.reshape(-1)\n",
    "    prepared_data[ds_name+\" \"+split+\" data\"] = prepared_data_"
   ]
  },
  {
   "cell_type": "code",
   "execution_count": null,
   "metadata": {},
   "outputs": [],
   "source": [
    "# plotting\n",
    "for key in prepared_data.keys():\n",
    "    labels.append(key)\n",
    "    sns.kdeplot(prepared_data[key],label=labels, shade=False)\n",
    "\n",
    "# Add a legend to the plot\n",
    "plt.legend(labels=labels)\n",
    "\n",
    "# Show the plot\n",
    "plt.show()"
   ]
  },
  {
   "cell_type": "code",
   "execution_count": 110,
   "metadata": {},
   "outputs": [
    {
     "ename": "AttributeError",
     "evalue": "module 'matplotlib' has no attribute 'subplots'",
     "output_type": "error",
     "traceback": [
      "\u001b[1;31m---------------------------------------------------------------------------\u001b[0m",
      "\u001b[1;31mAttributeError\u001b[0m                            Traceback (most recent call last)",
      "\u001b[1;32mc:\\Users\\yasmi\\Desktop\\having-fun-with-MedMNIST-data\\know_your_data.ipynb Cell 6\u001b[0m in \u001b[0;36m2\n\u001b[0;32m      <a href='vscode-notebook-cell:/c%3A/Users/yasmi/Desktop/having-fun-with-MedMNIST-data/know_your_data.ipynb#X61sZmlsZQ%3D%3D?line=0'>1</a>\u001b[0m \u001b[39m# Create a single subplot\u001b[39;00m\n\u001b[1;32m----> <a href='vscode-notebook-cell:/c%3A/Users/yasmi/Desktop/having-fun-with-MedMNIST-data/know_your_data.ipynb#X61sZmlsZQ%3D%3D?line=1'>2</a>\u001b[0m fig, ax \u001b[39m=\u001b[39m plt\u001b[39m.\u001b[39;49msubplots()\n\u001b[0;32m      <a href='vscode-notebook-cell:/c%3A/Users/yasmi/Desktop/having-fun-with-MedMNIST-data/know_your_data.ipynb#X61sZmlsZQ%3D%3D?line=3'>4</a>\u001b[0m \u001b[39m# Plot the kde plots and pass the labels to the label parameter\u001b[39;00m\n\u001b[0;32m      <a href='vscode-notebook-cell:/c%3A/Users/yasmi/Desktop/having-fun-with-MedMNIST-data/know_your_data.ipynb#X61sZmlsZQ%3D%3D?line=4'>5</a>\u001b[0m \u001b[39mfor\u001b[39;00m key \u001b[39min\u001b[39;00m prepared_data\u001b[39m.\u001b[39mkeys():\n",
      "File \u001b[1;32m~\\AppData\\Local\\Packages\\PythonSoftwareFoundation.Python.3.10_qbz5n2kfra8p0\\LocalCache\\local-packages\\Python310\\site-packages\\matplotlib\\_api\\__init__.py:224\u001b[0m, in \u001b[0;36mcaching_module_getattr.<locals>.__getattr__\u001b[1;34m(name)\u001b[0m\n\u001b[0;32m    222\u001b[0m \u001b[39mif\u001b[39;00m name \u001b[39min\u001b[39;00m props:\n\u001b[0;32m    223\u001b[0m     \u001b[39mreturn\u001b[39;00m props[name]\u001b[39m.\u001b[39m\u001b[39m__get__\u001b[39m(instance)\n\u001b[1;32m--> 224\u001b[0m \u001b[39mraise\u001b[39;00m \u001b[39mAttributeError\u001b[39;00m(\n\u001b[0;32m    225\u001b[0m     \u001b[39mf\u001b[39m\u001b[39m\"\u001b[39m\u001b[39mmodule \u001b[39m\u001b[39m{\u001b[39;00m\u001b[39mcls\u001b[39m\u001b[39m.\u001b[39m\u001b[39m__module__\u001b[39m\u001b[39m!r}\u001b[39;00m\u001b[39m has no attribute \u001b[39m\u001b[39m{\u001b[39;00mname\u001b[39m!r}\u001b[39;00m\u001b[39m\"\u001b[39m)\n",
      "\u001b[1;31mAttributeError\u001b[0m: module 'matplotlib' has no attribute 'subplots'"
     ]
    }
   ],
   "source": [
    "# Create a single subplot\n",
    "fig, ax = plt.subplots()\n",
    "\n",
    "# Plot the kde plots and pass the labels to the label parameter\n",
    "for key in prepared_data.keys():\n",
    "    sns.kdeplot(prepared_data[key], shade=False, label=key, ax=ax)\n",
    "\n",
    "# Add a legend to the plot\n",
    "ax.legend()\n",
    "\n",
    "# Show the plot\n",
    "plt.show()"
   ]
  },
  {
   "cell_type": "code",
   "execution_count": null,
   "metadata": {},
   "outputs": [],
   "source": []
  }
 ],
 "metadata": {
  "kernelspec": {
   "display_name": "Python 3",
   "language": "python",
   "name": "python3"
  },
  "language_info": {
   "codemirror_mode": {
    "name": "ipython",
    "version": 3
   },
   "file_extension": ".py",
   "mimetype": "text/x-python",
   "name": "python",
   "nbconvert_exporter": "python",
   "pygments_lexer": "ipython3",
   "version": "3.10.10"
  },
  "orig_nbformat": 4
 },
 "nbformat": 4,
 "nbformat_minor": 2
}
